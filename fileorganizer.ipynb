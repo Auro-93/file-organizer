{
 "cells": [
  {
   "cell_type": "code",
   "execution_count": 1,
   "id": "8481f2b3",
   "metadata": {
    "scrolled": true
   },
   "outputs": [],
   "source": [
    "import os \n",
    "import shutil\n",
    "import csv\n",
    "import numpy as np\n",
    "from PIL import Image\n",
    "from tabulate import tabulate\n",
    "\n",
    "from utilities import files_dir_exists, work_directory\n",
    "from move_files_func import file_organizer"
   ]
  },
  {
   "cell_type": "markdown",
   "id": "ded429d6",
   "metadata": {},
   "source": [
    "# STEP 1"
   ]
  },
  {
   "cell_type": "markdown",
   "id": "675c92e7",
   "metadata": {},
   "source": [
    "Per rendere più scalabile il programma ho scelto di creare una funzione generica di management dei file, inserendola in un altro modulo (\"move_files_func.py\"). In questo modo, per lo step 1 posso passare come argomento la lista di file presenti nella cartella \"files\", mentre per lo step 2 passerò solo l'input \"filename\" richiesto all'utente tramite linea di comando."
   ]
  },
  {
   "cell_type": "code",
   "execution_count": 2,
   "id": "c320239b",
   "metadata": {},
   "outputs": [
    {
     "name": "stdout",
     "output_type": "stream",
     "text": [
      "bw type:.png size:94926\n",
      "ciao type:.txt size:12\n",
      "daffodil type:.jpg size:24657\n",
      "eclipse type:.png size:64243\n",
      "pippo type:.odt size:8299\n",
      "song1 type:.mp3 size:1087849\n",
      "song2 type:.mp3 size:764176\n",
      "trump type:.jpeg size:10195\n"
     ]
    }
   ],
   "source": [
    "# checking if \"files\" directory exists: if not return, if yes run program\n",
    "if(files_dir_exists() != False):\n",
    "    \n",
    "    # if \"files\" directory has no files to move, do nothing (only for adding multiple files - step 1)\n",
    "    if (len(files_dir_exists()[\"files\"]) == 0):\n",
    "        print(\"No files to move at {}\" .format(files_dir_exists()[\"path\"]))\n",
    "    else:\n",
    "        #calling main file_organizer func\n",
    "        file_organizer(files_dir_exists()[\"files\"])\n",
    "        \n",
    "else:\n",
    "    print(\"Destination folder not found. You have to create a folder named 'files' in this directory.\")\n",
    "   \n"
   ]
  },
  {
   "cell_type": "markdown",
   "id": "cc48b23e",
   "metadata": {},
   "source": [
    "# STEP 3"
   ]
  },
  {
   "cell_type": "code",
   "execution_count": 17,
   "id": "8a9be928",
   "metadata": {},
   "outputs": [],
   "source": [
    "# Defining a func to process images and display their data (height, width, grayscale, rgba)\n",
    "\n",
    "def display_img_info():\n",
    "    \n",
    "    dir_path = os.path.join(work_directory, \"files\", \"images\")\n",
    "    \n",
    "    # if \"images\" folder doesn't exists, return\n",
    "    if(os.path.isdir(dir_path) == False):\n",
    "        print(\"'images' folder not found\")\n",
    "        return\n",
    "    \n",
    "    dir_el = os.listdir(dir_path)\n",
    "    \n",
    "    # if \"images\" folder doesn't contain any files return\n",
    "    if(len(dir_el) == 0):\n",
    "        print (\"No images to process at {}\" .format(dir_path))\n",
    "        return\n",
    "    \n",
    "    img_list = []\n",
    "    \n",
    "    # iteration through images. Output: a list of dictionaries with their data\n",
    "    for img in dir_el:\n",
    "        \n",
    "        # loading img with Image package\n",
    "        load_img = Image.open(os.path.join(dir_path, img))\n",
    "        \n",
    "        # transforming img in an array with Numpy\n",
    "        img_arr = np.array(load_img)\n",
    "        \n",
    "        # checking for array dimensions\n",
    "        img_dim = img_arr.ndim\n",
    "        \n",
    "        # getting img filename\n",
    "        name = os.path.splitext(img)[0]\n",
    "        \n",
    "        # getting img height from first array dimension\n",
    "        height = img_arr.shape[0]\n",
    "        \n",
    "        # getting img width from second array dimension\n",
    "        width = img_arr.shape[1]\n",
    "        \n",
    "        #calculating mean of each rgba channel\n",
    "        channels_mean = np.mean(img_arr, axis = (0,1))\n",
    "      \n",
    "        # if img has only 2 dimensions calc the mean of the color level (grayscale), else return 0\n",
    "        grayscale = np.mean(img_arr) if img_dim == 2 else 0\n",
    "        \n",
    "        # if img has more than 2 dimensions calc the mean of R channel, else return 0\n",
    "        r = np.mean(channels_mean[0]) if img_dim > 2 else 0\n",
    "        \n",
    "        # if img has more than 2 dimensions calc the mean of G channel, else return 0\n",
    "        g = np.mean(channels_mean[1]) if img_dim > 2 else 0\n",
    "        \n",
    "        # if img has more than 2 dimensions calc the mean of B channel, else return 0\n",
    "        b = np.mean(channels_mean[2]) if img_dim > 2 else 0\n",
    "        \n",
    "        # if img has more than 2 dimensions and more than 3 col calc the mean of ALPHA channel, else return 0\n",
    "        a = np.mean(channels_mean[3]) if img_dim > 2 and img_arr.shape[2] > 3 else 0\n",
    "        \n",
    "        # appending dictionary with img data to img_list array\n",
    "        img_list.append(\n",
    "            {\n",
    "                \"name\" : name, \n",
    "                \"height\": height, \n",
    "                \"width\" : width, \n",
    "                \"grayscale\" : grayscale, \n",
    "                \"R\": r, \n",
    "                \"G\" : g, \n",
    "                \"B\": b, \n",
    "                \"ALPHA\": a\n",
    "            }\n",
    "        )\n",
    "    \n",
    "    # printing a tabulated img_list array\n",
    "    print(tabulate(img_list, headers=\"keys\", tablefmt=\"fancy_grid\", floatfmt=\".2f\"))"
   ]
  },
  {
   "cell_type": "code",
   "execution_count": 18,
   "id": "ea2071a2",
   "metadata": {},
   "outputs": [
    {
     "name": "stdout",
     "output_type": "stream",
     "text": [
      "╒══════════╤══════════╤═════════╤═════════════╤════════╤════════╤═══════╤═════════╕\n",
      "│ name     │   height │   width │   grayscale │      R │      G │     B │   ALPHA │\n",
      "╞══════════╪══════════╪═════════╪═════════════╪════════╪════════╪═══════╪═════════╡\n",
      "│ bw       │      512 │     512 │       21.48 │   0.00 │   0.00 │  0.00 │    0.00 │\n",
      "├──────────┼──────────┼─────────┼─────────────┼────────┼────────┼───────┼─────────┤\n",
      "│ daffodil │      500 │     335 │        0.00 │ 109.25 │  85.56 │  4.97 │    0.00 │\n",
      "├──────────┼──────────┼─────────┼─────────────┼────────┼────────┼───────┼─────────┤\n",
      "│ eclipse  │      256 │     256 │        0.00 │ 109.05 │ 109.52 │ 39.85 │  133.59 │\n",
      "├──────────┼──────────┼─────────┼─────────────┼────────┼────────┼───────┼─────────┤\n",
      "│ trump    │      183 │     275 │        0.00 │  97.01 │  98.99 │ 90.92 │    0.00 │\n",
      "╘══════════╧══════════╧═════════╧═════════════╧════════╧════════╧═══════╧═════════╛\n"
     ]
    }
   ],
   "source": [
    "# calling display_img_info func\n",
    "display_img_info()"
   ]
  }
 ],
 "metadata": {
  "kernelspec": {
   "display_name": "Python 3 (ipykernel)",
   "language": "python",
   "name": "python3"
  },
  "language_info": {
   "codemirror_mode": {
    "name": "ipython",
    "version": 3
   },
   "file_extension": ".py",
   "mimetype": "text/x-python",
   "name": "python",
   "nbconvert_exporter": "python",
   "pygments_lexer": "ipython3",
   "version": "3.9.7"
  }
 },
 "nbformat": 4,
 "nbformat_minor": 5
}
